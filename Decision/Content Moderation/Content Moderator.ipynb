{
 "cells": [
  {
   "cell_type": "code",
   "execution_count": 1,
   "metadata": {},
   "outputs": [
    {
     "name": "stdout",
     "output_type": "stream",
     "text": [
      "Collecting azure-cognitiveservices-vision-contentmoderator\n",
      "  Downloading https://files.pythonhosted.org/packages/2e/3d/0fb9c563aaa8bb0538a02b9185edebb2a9c6a0c0daabcb97a8f47a8b059b/azure_cognitiveservices_vision_contentmoderator-1.0.0-py2.py3-none-any.whl (40kB)\n",
      "Requirement already satisfied, skipping upgrade: msrest>=0.5.0 in c:\\users\\chron\\anaconda3\\lib\\site-packages (from azure-cognitiveservices-vision-contentmoderator) (0.6.11)\n",
      "Requirement already satisfied, skipping upgrade: azure-common~=1.1 in c:\\users\\chron\\anaconda3\\lib\\site-packages (from azure-cognitiveservices-vision-contentmoderator) (1.1.12)\n",
      "Requirement already satisfied, skipping upgrade: isodate>=0.6.0 in c:\\users\\chron\\anaconda3\\lib\\site-packages (from msrest>=0.5.0->azure-cognitiveservices-vision-contentmoderator) (0.6.0)\n",
      "Requirement already satisfied, skipping upgrade: requests~=2.16 in c:\\users\\chron\\anaconda3\\lib\\site-packages (from msrest>=0.5.0->azure-cognitiveservices-vision-contentmoderator) (2.22.0)\n",
      "Requirement already satisfied, skipping upgrade: requests-oauthlib>=0.5.0 in c:\\users\\chron\\anaconda3\\lib\\site-packages (from msrest>=0.5.0->azure-cognitiveservices-vision-contentmoderator) (0.8.0)\n",
      "Requirement already satisfied, skipping upgrade: certifi>=2017.4.17 in c:\\users\\chron\\anaconda3\\lib\\site-packages (from msrest>=0.5.0->azure-cognitiveservices-vision-contentmoderator) (2020.4.5.1)\n",
      "Requirement already satisfied, skipping upgrade: azure-nspkg>=2.0.0 in c:\\users\\chron\\anaconda3\\lib\\site-packages (from azure-common~=1.1->azure-cognitiveservices-vision-contentmoderator) (2.0.0)\n",
      "Requirement already satisfied, skipping upgrade: six in c:\\users\\chron\\anaconda3\\lib\\site-packages (from isodate>=0.6.0->msrest>=0.5.0->azure-cognitiveservices-vision-contentmoderator) (1.12.0)\n",
      "Requirement already satisfied, skipping upgrade: chardet<3.1.0,>=3.0.2 in c:\\users\\chron\\anaconda3\\lib\\site-packages (from requests~=2.16->msrest>=0.5.0->azure-cognitiveservices-vision-contentmoderator) (3.0.4)\n",
      "Requirement already satisfied, skipping upgrade: idna<2.9,>=2.5 in c:\\users\\chron\\anaconda3\\lib\\site-packages (from requests~=2.16->msrest>=0.5.0->azure-cognitiveservices-vision-contentmoderator) (2.8)\n",
      "Requirement already satisfied, skipping upgrade: urllib3!=1.25.0,!=1.25.1,<1.26,>=1.21.1 in c:\\users\\chron\\anaconda3\\lib\\site-packages (from requests~=2.16->msrest>=0.5.0->azure-cognitiveservices-vision-contentmoderator) (1.24.2)\n",
      "Requirement already satisfied, skipping upgrade: oauthlib>=0.6.2 in c:\\users\\chron\\anaconda3\\lib\\site-packages (from requests-oauthlib>=0.5.0->msrest>=0.5.0->azure-cognitiveservices-vision-contentmoderator) (2.0.7)\n",
      "Installing collected packages: azure-cognitiveservices-vision-contentmoderator\n",
      "  Found existing installation: azure-cognitiveservices-vision-contentmoderator 0.1.0\n",
      "    Uninstalling azure-cognitiveservices-vision-contentmoderator-0.1.0:\n",
      "      Successfully uninstalled azure-cognitiveservices-vision-contentmoderator-0.1.0\n",
      "Successfully installed azure-cognitiveservices-vision-contentmoderator-1.0.0\n"
     ]
    }
   ],
   "source": [
    "!pip install --upgrade azure-cognitiveservices-vision-contentmoderator"
   ]
  },
  {
   "cell_type": "code",
   "execution_count": 6,
   "metadata": {},
   "outputs": [],
   "source": [
    "from azure.cognitiveservices.vision.contentmoderator import ContentModeratorClient\n",
    "import azure.cognitiveservices.vision.contentmoderator.models\n",
    "from msrest.authentication import CognitiveServicesCredentials\n",
    "from pprint import pprint"
   ]
  },
  {
   "cell_type": "code",
   "execution_count": 3,
   "metadata": {},
   "outputs": [],
   "source": [
    "key = \"144e9737e93647b3b93ac01219ac6855\"\n",
    "endpoint = \"https://cmdemo01.cognitiveservices.azure.com/\""
   ]
  },
  {
   "cell_type": "code",
   "execution_count": 4,
   "metadata": {},
   "outputs": [],
   "source": [
    "client = ContentModeratorClient(endpoint, CognitiveServicesCredentials(key))"
   ]
  },
  {
   "cell_type": "markdown",
   "metadata": {},
   "source": [
    "### Text Moderation"
   ]
  },
  {
   "cell_type": "code",
   "execution_count": 10,
   "metadata": {},
   "outputs": [
    {
     "name": "stdout",
     "output_type": "stream",
     "text": [
      "{'auto_corrected_text': 'This food is crap. \\n'\n",
      "                        '\\n'\n",
      "                        'My address is 1 Main St. New York, NY 10001 and my '\n",
      "                        'phone number is 8645551111',\n",
      " 'language': 'eng',\n",
      " 'normalized_text': ' foood  crap. \\n'\n",
      "                    '\\n'\n",
      "                    ' address  1 Main St. New York, NY 10001   phone number  '\n",
      "                    '8645551111',\n",
      " 'original_text': 'This foood is crap. \\n'\n",
      "                  '\\n'\n",
      "                  'My address is 1 Main St. New York, NY 10001 and my phone '\n",
      "                  'number is 8645551111',\n",
      " 'pii': {'address': [{'index': 36, 'text': '1 Main St. New York, NY 10001'}],\n",
      "         'email': [],\n",
      "         'ipa': [],\n",
      "         'phone': [{'country_code': 'US', 'index': 89, 'text': '8645551111'}],\n",
      "         'ssn': []},\n",
      " 'status': {'code': 3000, 'description': 'OK'},\n",
      " 'terms': [{'index': 8, 'list_id': 0, 'original_index': 14, 'term': 'crap'}],\n",
      " 'tracking_id': 'USE_ibiza_7b25ac66-7789-4f79-8332-7cb05601a3e8_ContentModerator.F0_9d0a8696-7217-4d92-8ab2-e05f7a18d9ac'}\n"
     ]
    }
   ],
   "source": [
    "with open(\"./Text Moderation.txt\", \"rb\") as text_file:\n",
    "    text_moderation = client.text_moderation.screen_text(text_content_type=\"text/plain\", text_content=text_file, language=\"eng\", autocorrect=True, pii=True)\n",
    "    \n",
    "    pprint(text_moderation.as_dict())"
   ]
  },
  {
   "cell_type": "code",
   "execution_count": 12,
   "metadata": {},
   "outputs": [],
   "source": [
    "term_list = client.list_management_term_lists.create(\n",
    "    content_type=\"application/json\",\n",
    "    body={\n",
    "        \"name\": \"Custom term list\",\n",
    "        \"description\": \"Custom term description\"\n",
    "    }\n",
    ")"
   ]
  },
  {
   "cell_type": "code",
   "execution_count": 13,
   "metadata": {},
   "outputs": [
    {
     "data": {
      "text/plain": [
       "{'ContentId': '545727',\n",
       " 'AdditionalInfo': None,\n",
       " 'Status': {'Code': 3000, 'Description': 'OK', 'Exception': None},\n",
       " 'TrackingId': 'USE_ibiza_7b25ac66-7789-4f79-8332-7cb05601a3e8_ContentModerator.F0_643a8e54-2c47-416c-89df-4b3bb02c9bbc'}"
      ]
     },
     "execution_count": 13,
     "metadata": {},
     "output_type": "execute_result"
    }
   ],
   "source": [
    "client.list_management_term.add_term(list_id=term_list.id, term=\"shenanigans\", language=\"eng\")"
   ]
  },
  {
   "cell_type": "code",
   "execution_count": 16,
   "metadata": {},
   "outputs": [
    {
     "name": "stdout",
     "output_type": "stream",
     "text": [
      "{'data': {'language': 'eng',\n",
      "          'status': {'code': 3000, 'description': 'OK'},\n",
      "          'terms': [{'term': 'shenanigans'}],\n",
      "          'tracking_id': 'USE_ibiza_7b25ac66-7789-4f79-8332-7cb05601a3e8_ContentModerator.F0_5faac7eb-f518-4c7e-a630-d45933f86028'},\n",
      " 'paging': {'limit': 50, 'offset': 0, 'returned': 1, 'total': 1}}\n"
     ]
    }
   ],
   "source": [
    "custom_terms = client.list_management_term.get_all_terms(list_id=term_list.id, language=\"eng\")\n",
    "\n",
    "pprint(custom_terms.as_dict())"
   ]
  },
  {
   "cell_type": "code",
   "execution_count": 20,
   "metadata": {},
   "outputs": [
    {
     "name": "stdout",
     "output_type": "stream",
     "text": [
      "{'auto_corrected_text': 'The movie has a lot of shenanigans.',\n",
      " 'language': 'eng',\n",
      " 'normalized_text': ' movie   lot  shenanigans.',\n",
      " 'original_text': 'The movie has a lot of shenanigans.',\n",
      " 'status': {'code': 3000, 'description': 'OK'},\n",
      " 'terms': [{'index': 14,\n",
      "            'list_id': 1254,\n",
      "            'original_index': 23,\n",
      "            'term': 'shenanigans'}],\n",
      " 'tracking_id': 'USE_ibiza_7b25ac66-7789-4f79-8332-7cb05601a3e8_ContentModerator.F0_af89c2f9-8ee9-4929-a542-81ad8c4b0b81'}\n"
     ]
    }
   ],
   "source": [
    "with open(\"./Custom Text.txt\", \"rb\") as custom_text:\n",
    "    screen_text = client.text_moderation.screen_text(\n",
    "        text_content_type=\"text/plain\", \n",
    "        text_content=custom_text, \n",
    "        language=\"eng\", \n",
    "        autocorrect=True, \n",
    "        pii=True,\n",
    "        list_id=term_list.id\n",
    "    )\n",
    "    \n",
    "    pprint(screen_text.as_dict())"
   ]
  },
  {
   "cell_type": "markdown",
   "metadata": {},
   "source": [
    "### Image Moderation"
   ]
  },
  {
   "cell_type": "code",
   "execution_count": 30,
   "metadata": {},
   "outputs": [
    {
     "name": "stdout",
     "output_type": "stream",
     "text": [
      "{'adult_classification_score': 0.009908339940011501,\n",
      " 'advanced_info': [],\n",
      " 'is_image_adult_classified': False,\n",
      " 'is_image_racy_classified': False,\n",
      " 'racy_classification_score': 0.01840316504240036,\n",
      " 'result': False,\n",
      " 'status': {'code': 3000, 'description': 'OK'},\n",
      " 'tracking_id': 'USE_ibiza_7b25ac66-7789-4f79-8332-7cb05601a3e8_ContentModerator.F0_c48d8020-5890-45fe-8964-ea7c412536fb'}\n"
     ]
    }
   ],
   "source": [
    "# Family Photo by Jude Beck on Unsplash - https://unsplash.com/photos/a-nWU0o73r4\n",
    "\n",
    "with open (\"./family.jpg\", \"rb\") as family:\n",
    "    image_eval = client.image_moderation.evaluate_file_input(family)\n",
    "    \n",
    "    pprint(image_eval.as_dict())"
   ]
  },
  {
   "cell_type": "code",
   "execution_count": 29,
   "metadata": {},
   "outputs": [
    {
     "name": "stdout",
     "output_type": "stream",
     "text": [
      "{'adult_classification_score': 0.022371897473931313,\n",
      " 'advanced_info': [],\n",
      " 'is_image_adult_classified': False,\n",
      " 'is_image_racy_classified': False,\n",
      " 'racy_classification_score': 0.06550969928503036,\n",
      " 'result': False,\n",
      " 'status': {'code': 3000, 'description': 'OK'},\n",
      " 'tracking_id': 'USE_ibiza_7b25ac66-7789-4f79-8332-7cb05601a3e8_ContentModerator.F0_6f447516-d13e-40fc-9282-b6a7754b9ad5'}\n"
     ]
    }
   ],
   "source": [
    "# Swimsuit Photo by Amy Humphries on Unsplash - https://unsplash.com/photos/nvRUmQR3DFM\n",
    "\n",
    "with open (\"./swimsuit.jpg\", \"rb\") as swimsuit:\n",
    "    image_eval = client.image_moderation.evaluate_file_input(swimsuit)\n",
    "    \n",
    "    pprint(image_eval.as_dict())"
   ]
  },
  {
   "cell_type": "code",
   "execution_count": 38,
   "metadata": {},
   "outputs": [
    {
     "name": "stdout",
     "output_type": "stream",
     "text": [
      "{'candidates': [],\n",
      " 'language': 'eng',\n",
      " 'metadata': [],\n",
      " 'status': {'code': 3000, 'description': 'OK'},\n",
      " 'text': 'KALE SUCKS \\r\\n',\n",
      " 'tracking_id': 'USE_ibiza_7b25ac66-7789-4f79-8332-7cb05601a3e8_ContentModerator.F0_589567bb-f91e-48a6-b7ee-f4f4984f145e'}\n"
     ]
    }
   ],
   "source": [
    "# Sign Photo by Charles Deluvio on Unsplash - https://unsplash.com/photos/znz3wt93jac\n",
    "\n",
    "with open (\"./sign.jpg\", \"rb\") as sign:\n",
    "    image_eval = client.image_moderation.ocr_file_input(language=\"eng\", image_stream=sign)\n",
    "        \n",
    "    pprint(image_eval.as_dict())"
   ]
  },
  {
   "cell_type": "code",
   "execution_count": 42,
   "metadata": {},
   "outputs": [
    {
     "name": "stdout",
     "output_type": "stream",
     "text": [
      "{'advanced_info': [],\n",
      " 'count': 1,\n",
      " 'faces': [{'bottom': 341, 'left': 216, 'right': 395, 'top': 162}],\n",
      " 'result': True,\n",
      " 'status': {'code': 3000, 'description': 'OK'},\n",
      " 'tracking_id': 'USE_ibiza_7b25ac66-7789-4f79-8332-7cb05601a3e8_ContentModerator.F0_90ad9956-4732-431a-bdd8-f8a2b4cab2a3'}\n"
     ]
    }
   ],
   "source": [
    "# Lincoln Photo by Library of Congress on Unsplash - https://unsplash.com/photos/i_9hgrmcUGw\n",
    "\n",
    "with open (\"./lincoln.jpg\", \"rb\") as lincoln:\n",
    "    image_eval = client.image_moderation.find_faces_file_input(language=\"eng\", image_stream=lincoln)\n",
    "        \n",
    "    pprint(image_eval.as_dict())"
   ]
  },
  {
   "cell_type": "markdown",
   "metadata": {},
   "source": [
    "### Review"
   ]
  },
  {
   "cell_type": "code",
   "execution_count": 43,
   "metadata": {},
   "outputs": [],
   "source": [
    "import uuid"
   ]
  },
  {
   "cell_type": "code",
   "execution_count": 45,
   "metadata": {},
   "outputs": [],
   "source": [
    "team = \"demotest803\"\n",
    "image_url = \"https://github.com/jwood803/CognitiveServicesExamples/raw/images/Decision/Content%20Moderation/lincoln.jpg\""
   ]
  },
  {
   "cell_type": "code",
   "execution_count": 47,
   "metadata": {},
   "outputs": [],
   "source": [
    "review = {\n",
    "    \"type\": \"Image\",\n",
    "    \"content\": image_url,\n",
    "    \"content_id\": uuid.uuid4(),\n",
    "    \"callback_endpoint\": \"http://localhost\"\n",
    "}"
   ]
  },
  {
   "cell_type": "code",
   "execution_count": 48,
   "metadata": {},
   "outputs": [],
   "source": [
    "reviews = client.reviews.create_reviews(\n",
    "    url_content_type=\"application/json\",\n",
    "    team_name=team,\n",
    "    create_review_body=[review]\n",
    ")"
   ]
  },
  {
   "cell_type": "code",
   "execution_count": 49,
   "metadata": {},
   "outputs": [
    {
     "data": {
      "text/plain": [
       "['202005i91be966480ed4ec482315bf1cb30ea30']"
      ]
     },
     "execution_count": 49,
     "metadata": {},
     "output_type": "execute_result"
    }
   ],
   "source": [
    "reviews"
   ]
  },
  {
   "cell_type": "code",
   "execution_count": 50,
   "metadata": {},
   "outputs": [
    {
     "name": "stdout",
     "output_type": "stream",
     "text": [
      "{'callback_endpoint': 'http://localhost',\n",
      " 'content': 'https://reviewcontentstorageuse.blob.core.windows.net/demotest803/IMG_202005i91be966480ed4ec482315bf1cb30ea30',\n",
      " 'content_id': 'd1378984-2e62-4b41-bec9-81e56d132baf',\n",
      " 'created_by': 'demotest803',\n",
      " 'metadata': [],\n",
      " 'review_id': '202005i91be966480ed4ec482315bf1cb30ea30',\n",
      " 'reviewer_result_tags': [],\n",
      " 'status': 'Pending',\n",
      " 'sub_team': 'public',\n",
      " 'type': 'Image'}\n"
     ]
    }
   ],
   "source": [
    "details = client.reviews.get_review(team, reviews[0])\n",
    "\n",
    "pprint(details.as_dict())"
   ]
  }
 ],
 "metadata": {
  "kernelspec": {
   "display_name": "Python 3",
   "language": "python",
   "name": "python3"
  },
  "language_info": {
   "codemirror_mode": {
    "name": "ipython",
    "version": 3
   },
   "file_extension": ".py",
   "mimetype": "text/x-python",
   "name": "python",
   "nbconvert_exporter": "python",
   "pygments_lexer": "ipython3",
   "version": "3.6.8"
  }
 },
 "nbformat": 4,
 "nbformat_minor": 2
}
