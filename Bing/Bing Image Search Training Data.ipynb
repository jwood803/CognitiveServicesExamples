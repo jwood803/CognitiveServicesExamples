{
 "cells": [
  {
   "cell_type": "code",
   "execution_count": 11,
   "metadata": {},
   "outputs": [],
   "source": [
    "import json\n",
    "import requests\n",
    "import time\n",
    "import os\n",
    "import pprint"
   ]
  },
  {
   "cell_type": "code",
   "execution_count": 12,
   "metadata": {},
   "outputs": [],
   "source": [
    "# You would need to create the config.json file and include your subscription key\n",
    "\n",
    "config = json.load(open(\"config.json\"))\n",
    "\n",
    "api_key = config[\"apiKey\"]"
   ]
  },
  {
   "cell_type": "code",
   "execution_count": 13,
   "metadata": {},
   "outputs": [],
   "source": [
    "endpoint = \"https://api.bing.microsoft.com/\"\n",
    "url = f\"{endpoint}v7.0/images/search\"\n",
    "\n",
    "new_offset = 0"
   ]
  },
  {
   "cell_type": "code",
   "execution_count": 14,
   "metadata": {},
   "outputs": [],
   "source": [
    "headers = { \"Ocp-Apim-Subscription-Key\": api_key }\n",
    "\n",
    "params = {\n",
    "    \"q\": \"aston martin\", \n",
    "    \"license\": \"public\", \n",
    "    \"imageType\": \"photo\",\n",
    "    \"safeSearch\": \"Strict\",\n",
    "}\n",
    "\n",
    "contentUrls = []"
   ]
  },
  {
   "cell_type": "code",
   "execution_count": null,
   "metadata": {},
   "outputs": [],
   "source": [
    "response = requests.get(url, headers=headers, params=params)\n",
    "response.raise_for_status()\n",
    "\n",
    "result = response.json()\n",
    "\n",
    "pprint.pprint(result)"
   ]
  },
  {
   "cell_type": "code",
   "execution_count": null,
   "metadata": {},
   "outputs": [],
   "source": [
    "while new_offset <= 200:\n",
    "    #print(new_offset)\n",
    "    params[\"offset\"] = new_offset\n",
    "    \n",
    "    response = requests.get(url, headers=headers, params=params)\n",
    "    response.raise_for_status()\n",
    "    \n",
    "    result = response.json()\n",
    "    \n",
    "    time.sleep(1)\n",
    "    \n",
    "    new_offset = result[\"nextOffset\"]\n",
    "    \n",
    "    for item in result[\"value\"]:        \n",
    "        print(item[\"contentUrl\"])\n",
    "        contentUrls.append(item[\"contentUrl\"])"
   ]
  },
  {
   "cell_type": "code",
   "execution_count": 20,
   "metadata": {},
   "outputs": [
    {
     "name": "stdout",
     "output_type": "stream",
     "text": [
      "aston-martin-car-1609287727yik.jpg\n",
      "aston-martin-car-16092879139Ck.jpg\n",
      "pexels-photo-592253.jpeg\n",
      "aston-martin-car-1609287611ktF.jpg\n",
      "pexels-photo-4083523.jpeg\n",
      "aston-martin-vantage-car.jpg\n",
      "aston-martin-2736376_1280.jpg\n",
      "aston-martin-233905_960_720.jpg\n",
      "luxurious-aston-martin-car-1508019736hmr.jpg\n",
      "car-automobile-vehicle-automotive-sports-car-supercar-luxury-expensive-coupe-v8-martin-vantage-aston-land-vehicle-automotive-design-luxury-vehicle-performance-car-aston-martin-dbs-aston-martin-db9-aston-martin-virage-aston-martin-v8-aston-martin-dbs-v12-aston-martin-vantage-aston-martin-v8-vantage-2005-aston-martin-rapide-865679.jpg\n",
      "pexels-photo-1414479.jpeg\n",
      "convertible-aston-martin-car.jpg\n",
      "automobile_aston_martin_car_auto_vehicle_motor_british_icon-1368524.jpg\n",
      "red-convertible-aston-martin-car.jpg\n",
      "aston-2118857_960_720.jpg\n",
      "aston-1829087_960_720.jpg\n",
      "aston-martin-2017-db11-wallpaper-preview.jpg\n",
      "aston-martin-vantage-v12s.jpg\n",
      "pexels-photo-1414480.jpeg\n",
      "aston-1828873_960_720.jpg\n",
      "car-wheel-automobile-pavement-vehicle-tire-automotive-sports-car-aston-martin-supercar-hd-wallpaper-land-vehicle-automobile-make-automotive-design-luxury-vehicle-performance-car-car-wallpapers-1174253.jpg\n",
      "aston-martin-db9-car-1438814459yx9.jpg\n",
      "aston-martin-car.jpg\n",
      "car-vehicle-classic-car-sports-car-vintage-car-sports-cars-convertible-coupe-lumixfz200-bridgecamera-jamesbond-antique-car-land-vehicle-1963astonmartindb5-automotive-design-aston-martin-db6-aston-martin-db2-aston-martin-db5-aston-martin-db4-575643.jpg\n"
     ]
    },
    {
     "ename": "KeyboardInterrupt",
     "evalue": "",
     "output_type": "error",
     "traceback": [
      "\u001b[0;31m---------------------------------------------------------------------------\u001b[0m",
      "\u001b[0;31mKeyboardInterrupt\u001b[0m                         Traceback (most recent call last)",
      "\u001b[0;32m<ipython-input-20-3e6275ec7571>\u001b[0m in \u001b[0;36m<module>\u001b[0;34m\u001b[0m\n\u001b[1;32m     27\u001b[0m             \u001b[0;31m#image_data.raise_for_status()\u001b[0m\u001b[0;34m\u001b[0m\u001b[0;34m\u001b[0m\u001b[0;34m\u001b[0m\u001b[0m\n\u001b[1;32m     28\u001b[0m \u001b[0;34m\u001b[0m\u001b[0m\n\u001b[0;32m---> 29\u001b[0;31m             \u001b[0mf\u001b[0m\u001b[0;34m.\u001b[0m\u001b[0mwrite\u001b[0m\u001b[0;34m(\u001b[0m\u001b[0mimage_data\u001b[0m\u001b[0;34m.\u001b[0m\u001b[0mcontent\u001b[0m\u001b[0;34m)\u001b[0m\u001b[0;34m\u001b[0m\u001b[0;34m\u001b[0m\u001b[0m\n\u001b[0m\u001b[1;32m     30\u001b[0m     \u001b[0;32mexcept\u001b[0m \u001b[0mOSError\u001b[0m\u001b[0;34m:\u001b[0m\u001b[0;34m\u001b[0m\u001b[0;34m\u001b[0m\u001b[0m\n\u001b[1;32m     31\u001b[0m         \u001b[0;32mpass\u001b[0m\u001b[0;34m\u001b[0m\u001b[0;34m\u001b[0m\u001b[0m\n",
      "\u001b[0;31mKeyboardInterrupt\u001b[0m: "
     ]
    }
   ],
   "source": [
    "dir_path = \"./aston-martin/train/\"\n",
    "\n",
    "if not os.path.exists(dir_path):\n",
    "    os.makedirs(dir_path)\n",
    "\n",
    "for url in contentUrls:\n",
    "    split = url.split(\"/\")\n",
    "    \n",
    "    last_item = split[-1]\n",
    "    \n",
    "    second_split = last_item.split(\"?\")\n",
    "    \n",
    "    if len(second_split) > 1:\n",
    "        last_item = second_split[0]\n",
    "        \n",
    "    third_split = last_item.split(\"!\")\n",
    "    \n",
    "    if len(third_split) > 1:\n",
    "        last_item = third_split[0]\n",
    "    \n",
    "    print(last_item)\n",
    "    path = os.path.join(dir_path, last_item)\n",
    "    \n",
    "    try:\n",
    "        with open(path, \"wb\") as f:\n",
    "            image_data = requests.get(url)\n",
    "            #image_data.raise_for_status()\n",
    "\n",
    "            f.write(image_data.content)\n",
    "    except OSError:\n",
    "        pass"
   ]
  }
 ],
 "metadata": {
  "kernelspec": {
   "display_name": "Python 3.6 - AzureML",
   "language": "python",
   "name": "python3-azureml"
  },
  "language_info": {
   "codemirror_mode": {
    "name": "ipython",
    "version": 3
   },
   "file_extension": ".py",
   "mimetype": "text/x-python",
   "name": "python",
   "nbconvert_exporter": "python",
   "pygments_lexer": "ipython3",
   "version": "3.6.9"
  }
 },
 "nbformat": 4,
 "nbformat_minor": 4
}
